{
 "cells": [
  {
   "cell_type": "markdown",
   "id": "ad0f180c-0855-48a8-a225-08745efb956e",
   "metadata": {},
   "source": [
    "# **🕸️ Web Scraping with Selenium and Beautiful Soup**"
   ]
  },
  {
   "cell_type": "code",
   "execution_count": 1,
   "id": "3617e773-2267-4265-8534-b24a4daf16d6",
   "metadata": {},
   "outputs": [],
   "source": [
    "from helpers import *\n",
    "import pandas as pd\n",
    "from time import sleep\n",
    "import numpy as np\n",
    "from bs4 import BeautifulSoup\n",
    "from selenium import webdriver\n",
    "from selenium.webdriver.common.by import By\n",
    "from selenium.webdriver.common.keys import Keys\n",
    "from IPython import display"
   ]
  },
  {
   "cell_type": "code",
   "execution_count": 2,
   "id": "490f23f2-19cd-4cfe-b5c7-4c2c45c8d677",
   "metadata": {},
   "outputs": [],
   "source": [
    "url = 'https://www.sciencefocus.com/nature/why-do-we-find-puppies-so-cute/'"
   ]
  },
  {
   "cell_type": "code",
   "execution_count": 3,
   "id": "cdbfd287-be4f-4160-89ad-a7a7c1adf3d8",
   "metadata": {},
   "outputs": [],
   "source": [
    "driver = webdriver.Chrome()\n",
    "driver.get(url)\n",
    "sleep(5)\n",
    "html_data = driver.page_source"
   ]
  },
  {
   "cell_type": "markdown",
   "id": "32315cf4-323a-4b0d-8715-4e6229fa06cf",
   "metadata": {},
   "source": [
    "### **Making soup**"
   ]
  },
  {
   "cell_type": "code",
   "execution_count": 4,
   "id": "b246137c-cde3-47fa-8fc0-d60bdfa4c09e",
   "metadata": {},
   "outputs": [],
   "source": [
    "soup = BeautifulSoup(html_data, 'html.parser')"
   ]
  },
  {
   "cell_type": "markdown",
   "id": "e0b2977d-d07b-4f10-96d1-1ad41c5a635c",
   "metadata": {},
   "source": [
    "### **Getting the title**"
   ]
  },
  {
   "cell_type": "code",
   "execution_count": 5,
   "id": "ae98bdf5-cd34-4bfc-acfc-e922081d9623",
   "metadata": {},
   "outputs": [
    {
     "data": {
      "text/plain": [
       "bs4.element.ResultSet"
      ]
     },
     "execution_count": 5,
     "metadata": {},
     "output_type": "execute_result"
    }
   ],
   "source": [
    "type(soup.find_all('h1'))"
   ]
  },
  {
   "cell_type": "code",
   "execution_count": 6,
   "id": "eb1cef0b-dc3d-4af2-8383-0c9bf8f2a484",
   "metadata": {},
   "outputs": [
    {
     "data": {
      "text/plain": [
       "'Why do we find puppies so cute?'"
      ]
     },
     "execution_count": 6,
     "metadata": {},
     "output_type": "execute_result"
    }
   ],
   "source": [
    "title = soup.find_all('h1')[0].text\n",
    "title"
   ]
  },
  {
   "cell_type": "markdown",
   "id": "bd1332b3-6d1d-42ae-bc45-10eb93283f8a",
   "metadata": {},
   "source": [
    "### **Getting the author**"
   ]
  },
  {
   "cell_type": "code",
   "execution_count": 7,
   "id": "5346ed9c-1e3d-4ff6-8324-54a84f1922a1",
   "metadata": {
    "tags": []
   },
   "outputs": [
    {
     "data": {
      "text/plain": [
       "'Christian Jarrett'"
      ]
     },
     "execution_count": 7,
     "metadata": {},
     "output_type": "execute_result"
    }
   ],
   "source": [
    "author = soup.find_all('a', {'class': 'link link--styled'})[0].text\n",
    "author"
   ]
  },
  {
   "cell_type": "code",
   "execution_count": 8,
   "id": "c1f7d37e-eb98-4bf1-8ce1-58c01d6fc4a8",
   "metadata": {},
   "outputs": [],
   "source": [
    "for div in soup.find_all('div', {'class': 'post__content'}):\n",
    "\tarticle_text = div.text"
   ]
  },
  {
   "cell_type": "code",
   "execution_count": 9,
   "id": "6cdb72e8-6ba9-4a18-8537-32e98d545339",
   "metadata": {},
   "outputs": [
    {
     "data": {
      "text/plain": [
       "'Asked by: Arnold Hopper, SwanseaAdvertisementWith their big, round eyes, button noses and large heads, puppies share many of the same physical characteristics as human babies. And like babies, as well as kittens, teddies and many cartoon characters, puppies provoke in us an automatic ‘cute response’. They grab our attention, we enjoy looking at them and, at a neural level, they trigger activity associated with reward and also compassion and empathy.In humans, and other animals, this response is an evolved, innate behaviour that motivates adults to look after helpless infants, and to be more sensitive to their needs and feelings. It makes sense, then, that a recent study found that puppies reach peak cuteness at eight weeks of age, just the time when their canine mothers leave them to fend for themselves.Read more:\\nDo babies have nightmares?\\nIs stroking good for pets?\\nAdvertisementSubscribe to BBC Focus magazine for fascinating new Q&As every month and follow @sciencefocusQA on Twitter for your daily dose of fun facts.'"
      ]
     },
     "execution_count": 9,
     "metadata": {},
     "output_type": "execute_result"
    }
   ],
   "source": [
    "article_text"
   ]
  },
  {
   "cell_type": "code",
   "execution_count": 10,
   "id": "10dedbde-718d-41ca-b9ad-8a5a88acd5c0",
   "metadata": {},
   "outputs": [],
   "source": [
    "article_text = article_text.replace('\\n', ' ')"
   ]
  },
  {
   "cell_type": "code",
   "execution_count": 11,
   "id": "df397452-af2f-4004-917d-2dd3a38b3603",
   "metadata": {},
   "outputs": [
    {
     "data": {
      "text/plain": [
       "'Asked by: Arnold Hopper, SwanseaAdvertisementWith their big, round eyes, button noses and large heads, puppies share many of the same physical characteristics as human babies. And like babies, as well as kittens, teddies and many cartoon characters, puppies provoke in us an automatic ‘cute response’. They grab our attention, we enjoy looking at them and, at a neural level, they trigger activity associated with reward and also compassion and empathy.In humans, and other animals, this response is an evolved, innate behaviour that motivates adults to look after helpless infants, and to be more sensitive to their needs and feelings. It makes sense, then, that a recent study found that puppies reach peak cuteness at eight weeks of age, just the time when their canine mothers leave them to fend for themselves.Read more: Do babies have nightmares? Is stroking good for pets? AdvertisementSubscribe to BBC Focus magazine for fascinating new Q&As every month and follow @sciencefocusQA on Twitter for your daily dose of fun facts.'"
      ]
     },
     "execution_count": 11,
     "metadata": {},
     "output_type": "execute_result"
    }
   ],
   "source": [
    "article_text"
   ]
  },
  {
   "cell_type": "markdown",
   "id": "b6a150b3-5e4d-412e-9f6f-4fbf05618cf7",
   "metadata": {},
   "source": [
    "---"
   ]
  },
  {
   "cell_type": "markdown",
   "id": "5a350958-6acd-4795-a550-9a15178973f2",
   "metadata": {},
   "source": [
    "## **Google Search**"
   ]
  },
  {
   "cell_type": "code",
   "execution_count": 12,
   "id": "a36f0711-b643-4241-85fa-e61fcaea2b06",
   "metadata": {},
   "outputs": [],
   "source": [
    "url = 'https://google.com'\n",
    "driver = webdriver.Chrome()\n",
    "driver.get(url)"
   ]
  },
  {
   "cell_type": "code",
   "execution_count": 13,
   "id": "5b777798-bbcf-467a-9cff-f82eb2a67200",
   "metadata": {},
   "outputs": [],
   "source": [
    "search_field = driver.find_element(By.NAME, 'q')"
   ]
  },
  {
   "cell_type": "code",
   "execution_count": 14,
   "id": "e1333d1d-1ca4-4732-8f87-bef88d8f548c",
   "metadata": {},
   "outputs": [],
   "source": [
    "search_field.send_keys('Why are dogs so cute?')\n",
    "search_field.send_keys(Keys.ENTER) "
   ]
  },
  {
   "cell_type": "code",
   "execution_count": 15,
   "id": "6b567e22-62fe-4922-84f9-d5051c20c105",
   "metadata": {},
   "outputs": [],
   "source": [
    "html_data = driver.page_source"
   ]
  },
  {
   "cell_type": "code",
   "execution_count": 16,
   "id": "b966f9ca-3a11-4c88-b8a1-6b02ab68bcd8",
   "metadata": {},
   "outputs": [],
   "source": [
    "soup = BeautifulSoup(html_data, 'html.parser')"
   ]
  },
  {
   "cell_type": "markdown",
   "id": "e5b116a9-bfa7-4b37-943a-dccfa4a95501",
   "metadata": {},
   "source": [
    "### **Getting All Article Titles**"
   ]
  },
  {
   "cell_type": "code",
   "execution_count": 17,
   "id": "fdc582bb-6750-41db-b95e-648e215eeef1",
   "metadata": {
    "tags": []
   },
   "outputs": [
    {
     "data": {
      "text/plain": [
       "['The Scientific Reason Behind Why We Find Dogs So Cute',\n",
       " 'Curious Kids: Why is our dog so cute? - The Conversation',\n",
       " 'The Science of Cute: How Cuteness Makes Us Love Our Dogs',\n",
       " \"Why Are Dogs So Cute? - Dogs 'N Stuff\",\n",
       " 'Why is my dog so cute? | Ohio Wesleyan University',\n",
       " 'Science Explains What Makes Your Dog So Cute - WSJ',\n",
       " 'Why do we find puppies so cute? - BBC Science Focus',\n",
       " 'What makes a dog cute to a human being? - Quora',\n",
       " 'Why Are Puppies So Cute? | Psychology Today',\n",
       " \"What Your Dog's Cute Behaviors Really Mean\",\n",
       " 'More results',\n",
       " 'Try again']"
      ]
     },
     "execution_count": 17,
     "metadata": {},
     "output_type": "execute_result"
    }
   ],
   "source": [
    "[title.text for title in soup.find_all('h3')]"
   ]
  },
  {
   "cell_type": "markdown",
   "id": "74afaa4b-63db-4b74-b51a-0ac43216fe62",
   "metadata": {},
   "source": [
    "### **Drop the two non-titles from the end of the list**"
   ]
  },
  {
   "cell_type": "code",
   "execution_count": 18,
   "id": "06aec3aa-e06e-4874-8987-1d13efadf7ac",
   "metadata": {},
   "outputs": [],
   "source": [
    "titles = [title.text for title in soup.find_all('h3')][:14]"
   ]
  },
  {
   "cell_type": "code",
   "execution_count": 19,
   "id": "0de52790-e91c-463a-872f-ba60fd0b1217",
   "metadata": {},
   "outputs": [
    {
     "data": {
      "text/plain": [
       "['The Scientific Reason Behind Why We Find Dogs So Cute',\n",
       " 'Curious Kids: Why is our dog so cute? - The Conversation',\n",
       " 'The Science of Cute: How Cuteness Makes Us Love Our Dogs',\n",
       " \"Why Are Dogs So Cute? - Dogs 'N Stuff\",\n",
       " 'Why is my dog so cute? | Ohio Wesleyan University',\n",
       " 'Science Explains What Makes Your Dog So Cute - WSJ',\n",
       " 'Why do we find puppies so cute? - BBC Science Focus',\n",
       " 'What makes a dog cute to a human being? - Quora',\n",
       " 'Why Are Puppies So Cute? | Psychology Today',\n",
       " \"What Your Dog's Cute Behaviors Really Mean\",\n",
       " 'More results',\n",
       " 'Try again']"
      ]
     },
     "execution_count": 19,
     "metadata": {},
     "output_type": "execute_result"
    }
   ],
   "source": [
    "titles"
   ]
  },
  {
   "cell_type": "markdown",
   "id": "1a32bd82-2630-4e34-919a-b61adcb3e896",
   "metadata": {},
   "source": [
    "### **Remove the 4 extra titles between header article and other articles**"
   ]
  },
  {
   "cell_type": "code",
   "execution_count": 20,
   "id": "a0a18c94-c8b7-4745-9102-059f65b35b6a",
   "metadata": {},
   "outputs": [],
   "source": [
    "del titles[1:5]"
   ]
  },
  {
   "cell_type": "code",
   "execution_count": 21,
   "id": "765746fd-0ce0-4a49-bcd5-8f8101f3c7a7",
   "metadata": {},
   "outputs": [
    {
     "data": {
      "text/plain": [
       "['The Scientific Reason Behind Why We Find Dogs So Cute',\n",
       " 'Science Explains What Makes Your Dog So Cute - WSJ',\n",
       " 'Why do we find puppies so cute? - BBC Science Focus',\n",
       " 'What makes a dog cute to a human being? - Quora',\n",
       " 'Why Are Puppies So Cute? | Psychology Today',\n",
       " \"What Your Dog's Cute Behaviors Really Mean\",\n",
       " 'More results',\n",
       " 'Try again']"
      ]
     },
     "execution_count": 21,
     "metadata": {},
     "output_type": "execute_result"
    }
   ],
   "source": [
    "titles"
   ]
  },
  {
   "cell_type": "markdown",
   "id": "06be1865-860d-4d64-a479-1a4efc23c9f3",
   "metadata": {},
   "source": [
    "### **Getting head article**"
   ]
  },
  {
   "cell_type": "code",
   "execution_count": 22,
   "id": "8e339f4f-5a98-45db-9fbf-4c0812c275a9",
   "metadata": {},
   "outputs": [],
   "source": [
    "articles = []"
   ]
  },
  {
   "cell_type": "code",
   "execution_count": 23,
   "id": "48edc10d-38af-4254-985e-65502aa2a296",
   "metadata": {},
   "outputs": [
    {
     "data": {
      "text/plain": [
       "1"
      ]
     },
     "execution_count": 23,
     "metadata": {},
     "output_type": "execute_result"
    }
   ],
   "source": [
    "len(soup.find_all('div', {'class': 'xpdopen'}))"
   ]
  },
  {
   "cell_type": "code",
   "execution_count": 24,
   "id": "140e8af8-25fb-4c0c-b99c-90f26f81bf3e",
   "metadata": {},
   "outputs": [
    {
     "data": {
      "text/plain": [
       "'https://www.dabl.com/dabl-home/dabl-home/articles/scientific-reason-behind-why-we-find-dogs-so-cute#:~:text=In%20the%20past%2C%20research%20suggested,dogs%20are%20a%20perfect%20example.'"
      ]
     },
     "execution_count": 24,
     "metadata": {},
     "output_type": "execute_result"
    }
   ],
   "source": [
    "articles.append(soup.find_all('div', {'class': 'xpdopen'})[0].find_all('a')[0]['href'])\n",
    "\n",
    "soup.find_all('div', {'class': 'xpdopen'})[0].find_all('a')[0]['href']"
   ]
  },
  {
   "cell_type": "markdown",
   "id": "357be03e-fcfd-42b0-a956-2e4862e2bf08",
   "metadata": {},
   "source": [
    "### **Getting the rest of the articles**"
   ]
  },
  {
   "cell_type": "code",
   "execution_count": 25,
   "id": "34ad2647-5cfd-40f7-9d0a-b118bd6f65ed",
   "metadata": {},
   "outputs": [
    {
     "data": {
      "text/plain": [
       "9"
      ]
     },
     "execution_count": 25,
     "metadata": {},
     "output_type": "execute_result"
    }
   ],
   "source": [
    "len(soup.find_all('div', {'data-header-feature': '0'}))"
   ]
  },
  {
   "cell_type": "code",
   "execution_count": 26,
   "id": "477b5423-7c03-4e15-ae43-87f95f612a19",
   "metadata": {},
   "outputs": [
    {
     "data": {
      "text/plain": [
       "'https://theconversation.com/curious-kids-why-is-our-dog-so-cute-138035'"
      ]
     },
     "execution_count": 26,
     "metadata": {},
     "output_type": "execute_result"
    }
   ],
   "source": [
    "soup.find_all('div', {'data-header-feature': '0'})[0].find_all('a')[0]['href']"
   ]
  },
  {
   "cell_type": "code",
   "execution_count": 27,
   "id": "590b6ca3-4a65-4cd2-87ee-e71935496d2a",
   "metadata": {},
   "outputs": [
    {
     "data": {
      "text/plain": [
       "'https://www.rover.com/blog/science-cute-dogs/'"
      ]
     },
     "execution_count": 27,
     "metadata": {},
     "output_type": "execute_result"
    }
   ],
   "source": [
    "soup.find_all('div', {'data-header-feature': '0'})[1].find_all('a')[0]['href']"
   ]
  },
  {
   "cell_type": "code",
   "execution_count": 28,
   "id": "f2c8ea6c-c245-4f72-a0ea-4d9ee142ce15",
   "metadata": {},
   "outputs": [
    {
     "data": {
      "text/plain": [
       "'https://dogsnstuff.net/why-are-dogs-so-cute/'"
      ]
     },
     "execution_count": 28,
     "metadata": {},
     "output_type": "execute_result"
    }
   ],
   "source": [
    "soup.find_all('div', {'data-header-feature': '0'})[2].find_all('a')[0]['href']"
   ]
  },
  {
   "cell_type": "code",
   "execution_count": 29,
   "id": "dc768d75-dca3-4cd1-a634-ee387fa8b17c",
   "metadata": {},
   "outputs": [],
   "source": [
    "for article in soup.find_all('div', {'data-header-feature': '0'}):\n",
    "\tarticles.append(article.find_all('a')[0]['href'])"
   ]
  },
  {
   "cell_type": "code",
   "execution_count": 30,
   "id": "5f8139c7-8942-47a7-bd26-bb56d8d8ea0b",
   "metadata": {},
   "outputs": [
    {
     "data": {
      "text/plain": [
       "['https://www.dabl.com/dabl-home/dabl-home/articles/scientific-reason-behind-why-we-find-dogs-so-cute#:~:text=In%20the%20past%2C%20research%20suggested,dogs%20are%20a%20perfect%20example.',\n",
       " 'https://theconversation.com/curious-kids-why-is-our-dog-so-cute-138035',\n",
       " 'https://www.rover.com/blog/science-cute-dogs/',\n",
       " 'https://dogsnstuff.net/why-are-dogs-so-cute/',\n",
       " 'https://www.owu.edu/news-media/from-our-perspective/why-is-my-dog-so-cute/',\n",
       " 'https://www.wsj.com/story/national-dog-day-what-makes-your-pup-so-cute-its-all-in-the-eyebrows-feff3811',\n",
       " 'https://www.sciencefocus.com/nature/why-do-we-find-puppies-so-cute/',\n",
       " 'https://www.quora.com/What-makes-a-dog-cute-to-a-human-being',\n",
       " 'https://www.psychologytoday.com/us/blog/thinking-about-kids/202003/why-are-puppies-so-cute',\n",
       " 'https://vcahospitals.com/know-your-pet/what-your-dogs-cute-behaviors-really-mean']"
      ]
     },
     "execution_count": 30,
     "metadata": {},
     "output_type": "execute_result"
    }
   ],
   "source": [
    "articles"
   ]
  },
  {
   "cell_type": "markdown",
   "id": "32797fe8-ac9e-4357-8e90-7f0278f3c16e",
   "metadata": {},
   "source": [
    "### **Combine article titles and urls as a dataframe**"
   ]
  },
  {
   "cell_type": "code",
   "execution_count": 31,
   "id": "a5e34386-0f9b-4952-a607-b7c846b822ab",
   "metadata": {},
   "outputs": [
    {
     "data": {
      "text/html": [
       "<div>\n",
       "<style scoped>\n",
       "    .dataframe tbody tr th:only-of-type {\n",
       "        vertical-align: middle;\n",
       "    }\n",
       "\n",
       "    .dataframe tbody tr th {\n",
       "        vertical-align: top;\n",
       "    }\n",
       "\n",
       "    .dataframe thead th {\n",
       "        text-align: right;\n",
       "    }\n",
       "</style>\n",
       "<table border=\"1\" class=\"dataframe\">\n",
       "  <thead>\n",
       "    <tr style=\"text-align: right;\">\n",
       "      <th></th>\n",
       "      <th>title</th>\n",
       "      <th>url</th>\n",
       "    </tr>\n",
       "  </thead>\n",
       "  <tbody>\n",
       "    <tr>\n",
       "      <th>0</th>\n",
       "      <td>The Scientific Reason Behind Why We Find Dogs ...</td>\n",
       "      <td>https://www.dabl.com/dabl-home/dabl-home/artic...</td>\n",
       "    </tr>\n",
       "    <tr>\n",
       "      <th>1</th>\n",
       "      <td>Science Explains What Makes Your Dog So Cute -...</td>\n",
       "      <td>https://theconversation.com/curious-kids-why-i...</td>\n",
       "    </tr>\n",
       "    <tr>\n",
       "      <th>2</th>\n",
       "      <td>Why do we find puppies so cute? - BBC Science ...</td>\n",
       "      <td>https://www.rover.com/blog/science-cute-dogs/</td>\n",
       "    </tr>\n",
       "    <tr>\n",
       "      <th>3</th>\n",
       "      <td>What makes a dog cute to a human being? - Quora</td>\n",
       "      <td>https://dogsnstuff.net/why-are-dogs-so-cute/</td>\n",
       "    </tr>\n",
       "    <tr>\n",
       "      <th>4</th>\n",
       "      <td>Why Are Puppies So Cute? | Psychology Today</td>\n",
       "      <td>https://www.owu.edu/news-media/from-our-perspe...</td>\n",
       "    </tr>\n",
       "    <tr>\n",
       "      <th>5</th>\n",
       "      <td>What Your Dog's Cute Behaviors Really Mean</td>\n",
       "      <td>https://www.wsj.com/story/national-dog-day-wha...</td>\n",
       "    </tr>\n",
       "    <tr>\n",
       "      <th>6</th>\n",
       "      <td>More results</td>\n",
       "      <td>https://www.sciencefocus.com/nature/why-do-we-...</td>\n",
       "    </tr>\n",
       "    <tr>\n",
       "      <th>7</th>\n",
       "      <td>Try again</td>\n",
       "      <td>https://www.quora.com/What-makes-a-dog-cute-to...</td>\n",
       "    </tr>\n",
       "    <tr>\n",
       "      <th>8</th>\n",
       "      <td>NaN</td>\n",
       "      <td>https://www.psychologytoday.com/us/blog/thinki...</td>\n",
       "    </tr>\n",
       "    <tr>\n",
       "      <th>9</th>\n",
       "      <td>NaN</td>\n",
       "      <td>https://vcahospitals.com/know-your-pet/what-yo...</td>\n",
       "    </tr>\n",
       "  </tbody>\n",
       "</table>\n",
       "</div>"
      ],
      "text/plain": [
       "                                               title  \\\n",
       "0  The Scientific Reason Behind Why We Find Dogs ...   \n",
       "1  Science Explains What Makes Your Dog So Cute -...   \n",
       "2  Why do we find puppies so cute? - BBC Science ...   \n",
       "3    What makes a dog cute to a human being? - Quora   \n",
       "4        Why Are Puppies So Cute? | Psychology Today   \n",
       "5         What Your Dog's Cute Behaviors Really Mean   \n",
       "6                                       More results   \n",
       "7                                          Try again   \n",
       "8                                                NaN   \n",
       "9                                                NaN   \n",
       "\n",
       "                                                 url  \n",
       "0  https://www.dabl.com/dabl-home/dabl-home/artic...  \n",
       "1  https://theconversation.com/curious-kids-why-i...  \n",
       "2      https://www.rover.com/blog/science-cute-dogs/  \n",
       "3       https://dogsnstuff.net/why-are-dogs-so-cute/  \n",
       "4  https://www.owu.edu/news-media/from-our-perspe...  \n",
       "5  https://www.wsj.com/story/national-dog-day-wha...  \n",
       "6  https://www.sciencefocus.com/nature/why-do-we-...  \n",
       "7  https://www.quora.com/What-makes-a-dog-cute-to...  \n",
       "8  https://www.psychologytoday.com/us/blog/thinki...  \n",
       "9  https://vcahospitals.com/know-your-pet/what-yo...  "
      ]
     },
     "execution_count": 31,
     "metadata": {},
     "output_type": "execute_result"
    }
   ],
   "source": [
    "articles_df = pd.concat([pd.Series(titles), pd.Series(articles)], axis = 1)\n",
    "articles_df.columns = ['title', 'url']\n",
    "articles_df"
   ]
  },
  {
   "cell_type": "markdown",
   "id": "a1598c51-7c0d-4c5d-bb14-57195ab9a7f3",
   "metadata": {},
   "source": [
    "### **Scraping the first article in the dataframe**"
   ]
  },
  {
   "cell_type": "code",
   "execution_count": 32,
   "id": "ef07cb4b-b9a2-40b0-90d5-8b0cb14f3440",
   "metadata": {},
   "outputs": [],
   "source": [
    "url = articles_df.iloc[0].url"
   ]
  },
  {
   "cell_type": "code",
   "execution_count": 33,
   "id": "9dca759a-3f61-45e9-99c9-b8dc5a68acf4",
   "metadata": {},
   "outputs": [],
   "source": [
    "driver = webdriver.Chrome()\n",
    "driver.get(url)\n",
    "html_data = driver.page_source\n",
    "soup = BeautifulSoup(html_data, 'html.parser')"
   ]
  },
  {
   "cell_type": "markdown",
   "id": "6cdb38ef-1276-4e85-b0a1-bcc88c9a7417",
   "metadata": {},
   "source": [
    "### **The title**"
   ]
  },
  {
   "cell_type": "code",
   "execution_count": 34,
   "id": "69ba07e2-d26b-444a-a476-fb96540bae6f",
   "metadata": {},
   "outputs": [
    {
     "data": {
      "text/plain": [
       "'The Scientific Reason Behind Why We Find Dogs So Cute '"
      ]
     },
     "execution_count": 34,
     "metadata": {},
     "output_type": "execute_result"
    }
   ],
   "source": [
    "title = soup.find_all('h1')[0].text\n",
    "title"
   ]
  },
  {
   "cell_type": "markdown",
   "id": "7475906b-895b-4ebe-b6ff-89caefb342ab",
   "metadata": {},
   "source": [
    "### **What can be found in the meta data?**"
   ]
  },
  {
   "cell_type": "code",
   "execution_count": 35,
   "id": "95500c6c-4ca3-414d-9341-46a69681788e",
   "metadata": {},
   "outputs": [
    {
     "data": {
      "text/plain": [
       "[<meta content=\"#e70058\" name=\"theme-color\"/>,\n",
       " <meta content=\"width=device-width\" name=\"viewport\"/>,\n",
       " <meta charset=\"utf-8\"/>,\n",
       " <meta content=\"max-image-preview:large\" name=\"robots\"/>,\n",
       " <meta content=\"summary_large_image\" name=\"twitter:card\"/>,\n",
       " <meta content=\"The Scientific Reason Behind Why We Find Dogs So Cute \" name=\"description\"/>,\n",
       " <meta content=\"https://www.dabl.com/dabl-home/dabl-home/articles/scientific-reason-behind-why-we-find-dogs-so-cute\" property=\"og:url\"/>,\n",
       " <meta content=\"The Scientific Reason Behind Why We Find Dogs So Cute \" property=\"og:title\"/>,\n",
       " <meta content=\"https://api.dabl.com/sites/default/files/styles/video_1280x720/public/images/2022-05/istock-1170679242.jpg?h=c549983f\" property=\"og:image\"/>,\n",
       " <meta content=\"The Scientific Reason Behind Why We Find Dogs So Cute \" property=\"og:description\"/>,\n",
       " <meta content=\"https://www.dabl.com/dabl-home/dabl-home/articles/scientific-reason-behind-why-we-find-dogs-so-cute\" name=\"twitter:url\"/>,\n",
       " <meta content=\"1280\" name=\"twitter:image:width\"/>,\n",
       " <meta content=\"720\" name=\"twitter:image:height\"/>,\n",
       " <meta content=\"https://api.dabl.com/sites/default/files/styles/video_1280x720/public/images/2022-05/istock-1170679242.jpg?h=c549983f\" name=\"twitter:image\"/>,\n",
       " <meta content=\"\" name=\"keywords\"/>,\n",
       " <meta content=\"The Scientific Reason Behind Why We Find Dogs So Cute \" name=\"twitter:title\"/>,\n",
       " <meta content=\"A recent study revealed the science behind why humans find dogs so adorable, and it’s at least partially our own fault! \" name=\"twitter:description\"/>,\n",
       " <meta content=\"The Scientific Reason Behind Why We Find Dogs So Cute \" property=\"og:title\"/>,\n",
       " <meta content=\"A recent study revealed the science behind why humans find dogs so adorable, and it’s at least partially our own fault! \" property=\"og:description\"/>,\n",
       " <meta content=\"21\" name=\"next-head-count\"/>,\n",
       " <meta content=\"A751Xsk4ZW3DVQ8WZng2Dk5s3YzAyqncTzgv+VaE6wavgTY0QHkDvUTET1o7HanhuJO8lgv1Vvc88Ij78W1FIAAAAAB7eyJvcmlnaW4iOiJodHRwczovL3d3dy5nb29nbGV0YWdtYW5hZ2VyLmNvbTo0NDMiLCJmZWF0dXJlIjoiUHJpdmFjeVNhbmRib3hBZHNBUElzIiwiZXhwaXJ5IjoxNjgwNjUyNzk5LCJpc1RoaXJkUGFydHkiOnRydWV9\" http-equiv=\"origin-trial\"/>,\n",
       " <meta content=\"A751Xsk4ZW3DVQ8WZng2Dk5s3YzAyqncTzgv+VaE6wavgTY0QHkDvUTET1o7HanhuJO8lgv1Vvc88Ij78W1FIAAAAAB7eyJvcmlnaW4iOiJodHRwczovL3d3dy5nb29nbGV0YWdtYW5hZ2VyLmNvbTo0NDMiLCJmZWF0dXJlIjoiUHJpdmFjeVNhbmRib3hBZHNBUElzIiwiZXhwaXJ5IjoxNjgwNjUyNzk5LCJpc1RoaXJkUGFydHkiOnRydWV9\" http-equiv=\"origin-trial\"/>]"
      ]
     },
     "execution_count": 35,
     "metadata": {},
     "output_type": "execute_result"
    }
   ],
   "source": [
    "soup.find_all('meta')"
   ]
  },
  {
   "cell_type": "markdown",
   "id": "b6563e5e-30d0-4fbd-9a04-45ee04e1152b",
   "metadata": {},
   "source": [
    "### **Title via meta data**"
   ]
  },
  {
   "cell_type": "code",
   "execution_count": 36,
   "id": "a3899ed4-26ac-46b3-93f2-ecea7550bdd8",
   "metadata": {},
   "outputs": [
    {
     "data": {
      "text/plain": [
       "'The Scientific Reason Behind Why We Find Dogs So Cute '"
      ]
     },
     "execution_count": 36,
     "metadata": {},
     "output_type": "execute_result"
    }
   ],
   "source": [
    "title_metadata = [x.attrs for x in soup.find_all('meta') if 'og:title' in list(x.attrs.values())]\n",
    "title = title_metadata[0]['content']\n",
    "title"
   ]
  },
  {
   "cell_type": "markdown",
   "id": "20258724-24d7-40d7-96ed-9f7de2211e81",
   "metadata": {},
   "source": [
    "### **URL via meta data**"
   ]
  },
  {
   "cell_type": "code",
   "execution_count": 37,
   "id": "aaa0d967-ab4a-46dc-bd7e-09f8e2cc781d",
   "metadata": {},
   "outputs": [
    {
     "data": {
      "text/plain": [
       "'https://www.dabl.com/dabl-home/dabl-home/articles/scientific-reason-behind-why-we-find-dogs-so-cute'"
      ]
     },
     "execution_count": 37,
     "metadata": {},
     "output_type": "execute_result"
    }
   ],
   "source": [
    "url_metadata = [x.attrs for x in soup.find_all('meta') if 'og:url' in list(x.attrs.values())]\n",
    "url = url_metadata[0]['content']\n",
    "url"
   ]
  },
  {
   "cell_type": "code",
   "execution_count": 38,
   "id": "25fa0a62-8698-423e-8950-73d3a7bc78ee",
   "metadata": {},
   "outputs": [
    {
     "data": {
      "text/html": [
       "\n",
       "        <iframe\n",
       "            width=\"100%\"\n",
       "            height=\"400\"\n",
       "            src=\"https://www.dabl.com/dabl-home/dabl-home/articles/scientific-reason-behind-why-we-find-dogs-so-cute\"\n",
       "            frameborder=\"0\"\n",
       "            allowfullscreen\n",
       "            \n",
       "        ></iframe>\n",
       "        "
      ],
      "text/plain": [
       "<IPython.lib.display.IFrame at 0x7fc37899af50>"
      ]
     },
     "execution_count": 38,
     "metadata": {},
     "output_type": "execute_result"
    }
   ],
   "source": [
    "display.IFrame(url, '100%', 400)"
   ]
  },
  {
   "cell_type": "markdown",
   "id": "498ea2e4-fb82-49ef-961a-7287e61d0bef",
   "metadata": {},
   "source": [
    "### **Image via meta data**"
   ]
  },
  {
   "cell_type": "code",
   "execution_count": 39,
   "id": "8507c7e0-2803-443d-8d7f-d8a0f0696781",
   "metadata": {},
   "outputs": [
    {
     "data": {
      "text/plain": [
       "'https://api.dabl.com/sites/default/files/styles/video_1280x720/public/images/2022-05/istock-1170679242.jpg?h=c549983f'"
      ]
     },
     "execution_count": 39,
     "metadata": {},
     "output_type": "execute_result"
    }
   ],
   "source": [
    "image_metadata = [x.attrs for x in soup.find_all('meta') if 'og:image' in list(x.attrs.values())]\n",
    "image = image_metadata[0]['content']\n",
    "image"
   ]
  },
  {
   "cell_type": "code",
   "execution_count": 40,
   "id": "6118ed6a-2f1b-48c3-8cef-7f53747db57a",
   "metadata": {},
   "outputs": [
    {
     "data": {
      "image/jpeg": "[encoded data removed]",
      "text/plain": [
       "<IPython.core.display.Image object>"
      ]
     },
     "execution_count": 40,
     "metadata": {
      "image/jpeg": {
       "width": 600
      }
     },
     "output_type": "execute_result"
    }
   ],
   "source": [
    "display.Image(data=image.replace('?h=c549983f', ''), \n",
    "\t\t\t  width = 600)"
   ]
  },
  {
   "cell_type": "markdown",
   "id": "95da7f26-b614-46dd-bad4-0c177b6acd53",
   "metadata": {},
   "source": [
    "### **Getting author data**"
   ]
  },
  {
   "cell_type": "code",
   "execution_count": 41,
   "id": "7e25e7a7-561a-4163-81cf-8a4ceaa72ded",
   "metadata": {},
   "outputs": [
    {
     "data": {
      "text/plain": [
       "<div class=\"content__presented-by\"><div class=\"content__show-badge\"><img alt=\"Dabl At Home Dec 2020\" height=\"144\" src=\"https://api.dabl.com/sites/default/files/styles/144x144/public/images/2020-12/DablAtHome_0.jpg?h=df1a205b\" width=\"144\"/></div><div>Presented By<br/><span>Dabl at Home</span></div></div>"
      ]
     },
     "execution_count": 41,
     "metadata": {},
     "output_type": "execute_result"
    }
   ],
   "source": [
    "soup.find_all('div', {'class': 'content__presented-by'})[0]"
   ]
  },
  {
   "cell_type": "code",
   "execution_count": 42,
   "id": "bccf63dc-99ba-4f52-9c3c-a84e96fb044c",
   "metadata": {},
   "outputs": [
    {
     "data": {
      "text/plain": [
       "'Dabl at Home'"
      ]
     },
     "execution_count": 42,
     "metadata": {},
     "output_type": "execute_result"
    }
   ],
   "source": [
    "author = soup.find_all('div', {'class': 'content__presented-by'})[0]\\\n",
    "\t\t\t\t\t\t       .text.replace('Presented By', '')\n",
    "author"
   ]
  },
  {
   "cell_type": "markdown",
   "id": "941a9a1d-cd6d-4a58-9fd3-53039815ffbb",
   "metadata": {},
   "source": [
    "### **First method of getting article text**"
   ]
  },
  {
   "cell_type": "code",
   "execution_count": 43,
   "id": "b00cd180-3afd-47d1-8c29-39db9ead95f1",
   "metadata": {},
   "outputs": [],
   "source": [
    "article_text = soup.find_all('div', \n",
    "\t\t\t\t\t\t\t {'class': 'content__body-main'})[0]\\\n",
    "\t\t\t\t\t\t\t  .get_text(strip=True).replace('\\u200b', '')"
   ]
  },
  {
   "cell_type": "markdown",
   "id": "f6af1822-a30e-416d-adb8-0dabf79ac125",
   "metadata": {},
   "source": [
    "### **Second method of getting article text**"
   ]
  },
  {
   "cell_type": "code",
   "execution_count": 44,
   "id": "5a267e59-7f26-4650-89e9-13a29bbbebbf",
   "metadata": {},
   "outputs": [
    {
     "data": {
      "text/plain": [
       "'It’s no secret that dogs are adorable, and most pet owners would argue that their furry friend is the cutest in existence! But have you ever wondered what it is about your dog’s appearance that makes him so irresistible? Scientists have recently uncovered a genetic reason behind your fur baby’s endearing puppy dog eyes, but we’re going to have to go back in time many years to fully explain it. It’s thought that our bond with wolves — the ancestors of domesticated dogs — began approximately 40,000 years when most humans lived as hunter-gatherers. Dogs weren’t born until humans startedselectively breeding wolves with the most desirable traits an estimated 33,000 years agoto act as their companions. Thus, the dogs we know and love today were born and man gained a new best friend, forming a bond between our species that has withstood thousands of years. But anew studyhas found that humanity has imparted more on dogs than we initially realized, and it’s a key factor in why we find them so cute. In an effort to communicate with their human counterparts — and as a result of selectively breeding dogs whose facial expressions looked similar to our own — dogs have learned to mirror the expressions of their owners. Consequently, the looks our dogs mimic are what makes us fall in love with their appearances. Specifically, dogsdeveloped different facial musclesfrom wolves that allow them to replicate human expressions through eyebrow movement, with the evolutionary purpose of making themselves more endearing and communicating with their owners. While wolves primarily utilize “slow-twitch” muscle fibers that are useful for long, extended movements like howling, dogs predominantly use “fast-twitch” muscle fibers. These muscles allow dogs to mimic the facial expressions of humans when they’re sad, and to make their eyes appear larger, giving them an almost childlike appearance that really makes those puppy dog eyes sweep us off our feet. The study also found that dogs are unique from other mammals in that they are the only species that can demonstrate the bond they share with their pet parent through a mutual gaze. In the past, research suggested we found dogs to be cute because they subconsciously reminded us of babies and we are instinctually hardwired to want to care for and protect our young. It’s aphenomenon called \\u200b\\u200bkinderschema, of which dogs are a perfect example. Kinderschema describes mammals with large rounded eyes, small noses, and disproportionate head sizes with little mouths and chins that we find adorable because it reminds us of our own babies. This new study is one of the first times science has really investigated the role our dog’s facial anatomy plays in dog-human interactions and in developing affection toward our pets, and we areherefor it! Get more great inspiration, ideas, and pet parent tips on Dabl! Check ourDabl TV scheduleand find outwhere to watch Dabl TV.   These cookies are essential for the proper functioning of our Services. Essential cookies cannot be switched off in our systems. You can set your device to block or alert you about these cookies, but some parts of the Service will not work. These Cookies enable the services to provide enhanced functionality and personalization. They may be set by us or by third party providers whose services we have added to our services. If you do not allow these Cookies then some or all of these services may not function properly. These Cookies are set by a range of social media services that we have added to the services to enable you to share our content with your friends and networks. They are capable of tracking your browser across other sites, building up a profile of your interests to show you relevant content and advertisements on the relevant social networks. If you do not allow these Cookies you may not be able to use or see these sharing tools. These Cookies allow us to collect information about how visitors use our properties. Some examples include counting visits and traffic sources, so we can measure and improve the performance of our services. If you do not allow these Cookies we will not know when users have visited our properties and will not be able to monitor performance. Please make sure you click on the Save Settings button at the bottom to save your opt-out choice.If you are in California and have enabled the Global Privacy Control signal, we will treat this as a request to opt-out of “sales,” “sharing” and “targeted advertising” for device information. For more information about how to use the Global Privacy Control signal,\\u202fplease seehere. '"
      ]
     },
     "execution_count": 44,
     "metadata": {},
     "output_type": "execute_result"
    }
   ],
   "source": [
    "article_text = ' '.join([p.get_text(strip=True) for p in soup.find_all('p')])\n",
    "article_text"
   ]
  },
  {
   "cell_type": "code",
   "execution_count": 45,
   "id": "21a942ba-a42c-4575-993e-d14d1ff742a1",
   "metadata": {},
   "outputs": [
    {
     "data": {
      "text/html": [
       "<div>\n",
       "<style scoped>\n",
       "    .dataframe tbody tr th:only-of-type {\n",
       "        vertical-align: middle;\n",
       "    }\n",
       "\n",
       "    .dataframe tbody tr th {\n",
       "        vertical-align: top;\n",
       "    }\n",
       "\n",
       "    .dataframe thead th {\n",
       "        text-align: right;\n",
       "    }\n",
       "</style>\n",
       "<table border=\"1\" class=\"dataframe\">\n",
       "  <thead>\n",
       "    <tr style=\"text-align: right;\">\n",
       "      <th></th>\n",
       "      <th>title</th>\n",
       "      <th>author</th>\n",
       "      <th>article_text</th>\n",
       "    </tr>\n",
       "  </thead>\n",
       "  <tbody>\n",
       "    <tr>\n",
       "      <th>0</th>\n",
       "      <td>The Scientific Reason Behind Why We Find Dogs ...</td>\n",
       "      <td>Dabl at Home</td>\n",
       "      <td>It’s no secret that dogs are adorable, and mos...</td>\n",
       "    </tr>\n",
       "  </tbody>\n",
       "</table>\n",
       "</div>"
      ],
      "text/plain": [
       "                                               title        author  \\\n",
       "0  The Scientific Reason Behind Why We Find Dogs ...  Dabl at Home   \n",
       "\n",
       "                                        article_text  \n",
       "0  It’s no secret that dogs are adorable, and mos...  "
      ]
     },
     "execution_count": 45,
     "metadata": {},
     "output_type": "execute_result"
    }
   ],
   "source": [
    "article = pd.DataFrame([title, author, article_text]).T\n",
    "article.columns = ['title', 'author', 'article_text']\n",
    "article"
   ]
  },
  {
   "cell_type": "code",
   "execution_count": null,
   "id": "6d1a821a-f665-4359-bce3-d2c62030e4ad",
   "metadata": {},
   "outputs": [],
   "source": []
  }
 ],
 "metadata": {
  "kernelspec": {
   "display_name": "Python 3 (ipykernel)",
   "language": "python",
   "name": "python3"
  },
  "language_info": {
   "codemirror_mode": {
    "name": "ipython",
    "version": 3
   },
   "file_extension": ".py",
   "mimetype": "text/x-python",
   "name": "python",
   "nbconvert_exporter": "python",
   "pygments_lexer": "ipython3",
   "version": "3.10.9"
  }
 },
 "nbformat": 4,
 "nbformat_minor": 5
}
